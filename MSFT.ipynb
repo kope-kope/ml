{
 "cells": [
  {
   "cell_type": "markdown",
   "metadata": {},
   "source": [
    "#Import necesssary packages\n"
   ]
  },
  {
   "cell_type": "code",
   "execution_count": 142,
   "metadata": {},
   "outputs": [],
   "source": [
    "\n",
    "import pandas as pd\n",
    "import numpy as np\n",
    "import matplotlib.pyplot as plt\n",
    "from pandas_datareader import data as wb\n",
    "from pandas.plotting import scatter_matrix\n",
    "import datetime\n",
    "\n",
    "\n",
    "start = datetime.datetime(2010,1,1)\n",
    "end = datetime.datetime.now()"
   ]
  },
  {
   "cell_type": "markdown",
   "metadata": {},
   "source": [
    "Use Yahoo FInance to get historial prices for Microsoft Stock"
   ]
  },
  {
   "cell_type": "code",
   "execution_count": 143,
   "metadata": {},
   "outputs": [],
   "source": [
    "MSFT = wb.DataReader('MSFT', 'yahoo', start, end)"
   ]
  },
  {
   "cell_type": "markdown",
   "metadata": {},
   "source": [
    "First five rows"
   ]
  },
  {
   "cell_type": "code",
   "execution_count": 144,
   "metadata": {},
   "outputs": [
    {
     "data": {
      "text/html": [
       "<div>\n",
       "<style scoped>\n",
       "    .dataframe tbody tr th:only-of-type {\n",
       "        vertical-align: middle;\n",
       "    }\n",
       "\n",
       "    .dataframe tbody tr th {\n",
       "        vertical-align: top;\n",
       "    }\n",
       "\n",
       "    .dataframe thead th {\n",
       "        text-align: right;\n",
       "    }\n",
       "</style>\n",
       "<table border=\"1\" class=\"dataframe\">\n",
       "  <thead>\n",
       "    <tr style=\"text-align: right;\">\n",
       "      <th></th>\n",
       "      <th>High</th>\n",
       "      <th>Low</th>\n",
       "      <th>Open</th>\n",
       "      <th>Close</th>\n",
       "      <th>Volume</th>\n",
       "      <th>Adj Close</th>\n",
       "    </tr>\n",
       "    <tr>\n",
       "      <th>Date</th>\n",
       "      <th></th>\n",
       "      <th></th>\n",
       "      <th></th>\n",
       "      <th></th>\n",
       "      <th></th>\n",
       "      <th></th>\n",
       "    </tr>\n",
       "  </thead>\n",
       "  <tbody>\n",
       "    <tr>\n",
       "      <td>2010-01-04</td>\n",
       "      <td>31.100000</td>\n",
       "      <td>30.590000</td>\n",
       "      <td>30.620001</td>\n",
       "      <td>30.950001</td>\n",
       "      <td>38409100.0</td>\n",
       "      <td>24.294369</td>\n",
       "    </tr>\n",
       "    <tr>\n",
       "      <td>2010-01-05</td>\n",
       "      <td>31.100000</td>\n",
       "      <td>30.639999</td>\n",
       "      <td>30.850000</td>\n",
       "      <td>30.959999</td>\n",
       "      <td>49749600.0</td>\n",
       "      <td>24.302216</td>\n",
       "    </tr>\n",
       "    <tr>\n",
       "      <td>2010-01-06</td>\n",
       "      <td>31.080000</td>\n",
       "      <td>30.520000</td>\n",
       "      <td>30.879999</td>\n",
       "      <td>30.770000</td>\n",
       "      <td>58182400.0</td>\n",
       "      <td>24.153070</td>\n",
       "    </tr>\n",
       "    <tr>\n",
       "      <td>2010-01-07</td>\n",
       "      <td>30.700001</td>\n",
       "      <td>30.190001</td>\n",
       "      <td>30.629999</td>\n",
       "      <td>30.450001</td>\n",
       "      <td>50559700.0</td>\n",
       "      <td>23.901886</td>\n",
       "    </tr>\n",
       "    <tr>\n",
       "      <td>2010-01-08</td>\n",
       "      <td>30.879999</td>\n",
       "      <td>30.240000</td>\n",
       "      <td>30.280001</td>\n",
       "      <td>30.660000</td>\n",
       "      <td>51197400.0</td>\n",
       "      <td>24.066734</td>\n",
       "    </tr>\n",
       "  </tbody>\n",
       "</table>\n",
       "</div>"
      ],
      "text/plain": [
       "                 High        Low       Open      Close      Volume  Adj Close\n",
       "Date                                                                         \n",
       "2010-01-04  31.100000  30.590000  30.620001  30.950001  38409100.0  24.294369\n",
       "2010-01-05  31.100000  30.639999  30.850000  30.959999  49749600.0  24.302216\n",
       "2010-01-06  31.080000  30.520000  30.879999  30.770000  58182400.0  24.153070\n",
       "2010-01-07  30.700001  30.190001  30.629999  30.450001  50559700.0  23.901886\n",
       "2010-01-08  30.879999  30.240000  30.280001  30.660000  51197400.0  24.066734"
      ]
     },
     "execution_count": 144,
     "metadata": {},
     "output_type": "execute_result"
    }
   ],
   "source": [
    "MSFT.head()"
   ]
  },
  {
   "cell_type": "markdown",
   "metadata": {},
   "source": [
    "Last five rows"
   ]
  },
  {
   "cell_type": "code",
   "execution_count": 145,
   "metadata": {},
   "outputs": [
    {
     "data": {
      "text/html": [
       "<div>\n",
       "<style scoped>\n",
       "    .dataframe tbody tr th:only-of-type {\n",
       "        vertical-align: middle;\n",
       "    }\n",
       "\n",
       "    .dataframe tbody tr th {\n",
       "        vertical-align: top;\n",
       "    }\n",
       "\n",
       "    .dataframe thead th {\n",
       "        text-align: right;\n",
       "    }\n",
       "</style>\n",
       "<table border=\"1\" class=\"dataframe\">\n",
       "  <thead>\n",
       "    <tr style=\"text-align: right;\">\n",
       "      <th></th>\n",
       "      <th>High</th>\n",
       "      <th>Low</th>\n",
       "      <th>Open</th>\n",
       "      <th>Close</th>\n",
       "      <th>Volume</th>\n",
       "      <th>Adj Close</th>\n",
       "    </tr>\n",
       "    <tr>\n",
       "      <th>Date</th>\n",
       "      <th></th>\n",
       "      <th></th>\n",
       "      <th></th>\n",
       "      <th></th>\n",
       "      <th></th>\n",
       "      <th></th>\n",
       "    </tr>\n",
       "  </thead>\n",
       "  <tbody>\n",
       "    <tr>\n",
       "      <td>2020-02-24</td>\n",
       "      <td>174.550003</td>\n",
       "      <td>163.229996</td>\n",
       "      <td>167.770004</td>\n",
       "      <td>170.889999</td>\n",
       "      <td>68311100.0</td>\n",
       "      <td>170.889999</td>\n",
       "    </tr>\n",
       "    <tr>\n",
       "      <td>2020-02-25</td>\n",
       "      <td>174.839996</td>\n",
       "      <td>167.649994</td>\n",
       "      <td>174.199997</td>\n",
       "      <td>168.070007</td>\n",
       "      <td>68073300.0</td>\n",
       "      <td>168.070007</td>\n",
       "    </tr>\n",
       "    <tr>\n",
       "      <td>2020-02-26</td>\n",
       "      <td>173.259995</td>\n",
       "      <td>168.210007</td>\n",
       "      <td>169.710007</td>\n",
       "      <td>170.169998</td>\n",
       "      <td>56206100.0</td>\n",
       "      <td>170.169998</td>\n",
       "    </tr>\n",
       "    <tr>\n",
       "      <td>2020-02-27</td>\n",
       "      <td>167.029999</td>\n",
       "      <td>157.979996</td>\n",
       "      <td>163.320007</td>\n",
       "      <td>158.179993</td>\n",
       "      <td>93174900.0</td>\n",
       "      <td>158.179993</td>\n",
       "    </tr>\n",
       "    <tr>\n",
       "      <td>2020-02-28</td>\n",
       "      <td>163.710007</td>\n",
       "      <td>152.000000</td>\n",
       "      <td>152.410004</td>\n",
       "      <td>162.009995</td>\n",
       "      <td>97012700.0</td>\n",
       "      <td>162.009995</td>\n",
       "    </tr>\n",
       "  </tbody>\n",
       "</table>\n",
       "</div>"
      ],
      "text/plain": [
       "                  High         Low        Open       Close      Volume  \\\n",
       "Date                                                                     \n",
       "2020-02-24  174.550003  163.229996  167.770004  170.889999  68311100.0   \n",
       "2020-02-25  174.839996  167.649994  174.199997  168.070007  68073300.0   \n",
       "2020-02-26  173.259995  168.210007  169.710007  170.169998  56206100.0   \n",
       "2020-02-27  167.029999  157.979996  163.320007  158.179993  93174900.0   \n",
       "2020-02-28  163.710007  152.000000  152.410004  162.009995  97012700.0   \n",
       "\n",
       "             Adj Close  \n",
       "Date                    \n",
       "2020-02-24  170.889999  \n",
       "2020-02-25  168.070007  \n",
       "2020-02-26  170.169998  \n",
       "2020-02-27  158.179993  \n",
       "2020-02-28  162.009995  "
      ]
     },
     "execution_count": 145,
     "metadata": {},
     "output_type": "execute_result"
    }
   ],
   "source": [
    "MSFT.tail()"
   ]
  },
  {
   "cell_type": "markdown",
   "metadata": {},
   "source": [
    "Log Returns\n"
   ]
  },
  {
   "cell_type": "code",
   "execution_count": 146,
   "metadata": {},
   "outputs": [
    {
     "name": "stdout",
     "output_type": "stream",
     "text": [
      "Date\n",
      "2010-01-04         NaN\n",
      "2010-01-05    0.000323\n",
      "2010-01-06   -0.006156\n",
      "2010-01-07   -0.010454\n",
      "2010-01-08    0.006873\n",
      "                ...   \n",
      "2020-02-24   -0.044073\n",
      "2020-02-25   -0.016639\n",
      "2020-02-26    0.012417\n",
      "2020-02-27   -0.073064\n",
      "2020-02-28    0.023924\n",
      "Name: log_return, Length: 2556, dtype: float64\n"
     ]
    }
   ],
   "source": [
    "MSFT['log_return'] = np.log(MSFT['Adj Close'] / MSFT['Adj Close'].shift(1))\n",
    "print (MSFT['log_return'])"
   ]
  },
  {
   "cell_type": "markdown",
   "metadata": {},
   "source": [
    "Plot Log Returns"
   ]
  },
  {
   "cell_type": "code",
   "execution_count": 147,
   "metadata": {},
   "outputs": [
    {
     "data": {
      "image/png": "[encoded data removed]",
      "text/plain": [
       "<Figure size 576x360 with 1 Axes>"
      ]
     },
     "metadata": {
      "needs_background": "light"
     },
     "output_type": "display_data"
    }
   ],
   "source": [
    "MSFT['log_return'].plot(figsize = (8,5))\n",
    "plt.show()"
   ]
  },
  {
   "cell_type": "markdown",
   "metadata": {},
   "source": [
    "Average Daily Returns`"
   ]
  },
  {
   "cell_type": "code",
   "execution_count": 148,
   "metadata": {},
   "outputs": [
    {
     "data": {
      "text/plain": [
       "0.0007426275707473211"
      ]
     },
     "execution_count": 148,
     "metadata": {},
     "output_type": "execute_result"
    }
   ],
   "source": [
    " log_return_d = MSFT['log_return'].mean()\n",
    "log_return_d"
   ]
  },
  {
   "cell_type": "markdown",
   "metadata": {},
   "source": [
    "Annual Daily Returns"
   ]
  },
  {
   "cell_type": "code",
   "execution_count": 149,
   "metadata": {},
   "outputs": [
    {
     "name": "stdout",
     "output_type": "stream",
     "text": [
      "18.566%\n"
     ]
    }
   ],
   "source": [
    "log_return_a = MSFT['log_return'].mean()*250\n",
    "print(str(round(log_return_a, 5)*100) + '%')"
   ]
  },
  {
   "cell_type": "markdown",
   "metadata": {},
   "source": [
    "Compare Microsoft Returns with other tech. stocks (Apple, IBM, Google)\n",
    "Get historical prices"
   ]
  },
  {
   "cell_type": "code",
   "execution_count": 150,
   "metadata": {},
   "outputs": [],
   "source": [
    "tickers = ['MSFT', 'AAPL', 'IBM', 'GOOGL']\n",
    "comps = pd.DataFrame()\n",
    "for t in tickers:\n",
    "    comps[t] = wb.DataReader(t, 'yahoo', start, end)['Adj Close']"
   ]
  },
  {
   "cell_type": "markdown",
   "metadata": {},
   "source": [
    "Confirm if data is complete"
   ]
  },
  {
   "cell_type": "code",
   "execution_count": 151,
   "metadata": {},
   "outputs": [
    {
     "name": "stdout",
     "output_type": "stream",
     "text": [
      "<class 'pandas.core.frame.DataFrame'>\n",
      "DatetimeIndex: 2556 entries, 2010-01-04 to 2020-02-28\n",
      "Data columns (total 4 columns):\n",
      "MSFT     2556 non-null float64\n",
      "AAPL     2556 non-null float64\n",
      "IBM      2556 non-null float64\n",
      "GOOGL    2556 non-null float64\n",
      "dtypes: float64(4)\n",
      "memory usage: 99.8 KB\n"
     ]
    }
   ],
   "source": [
    "comps.info()"
   ]
  },
  {
   "cell_type": "markdown",
   "metadata": {},
   "source": [
    "First Five Rows"
   ]
  },
  {
   "cell_type": "code",
   "execution_count": 152,
   "metadata": {},
   "outputs": [
    {
     "data": {
      "text/html": [
       "<div>\n",
       "<style scoped>\n",
       "    .dataframe tbody tr th:only-of-type {\n",
       "        vertical-align: middle;\n",
       "    }\n",
       "\n",
       "    .dataframe tbody tr th {\n",
       "        vertical-align: top;\n",
       "    }\n",
       "\n",
       "    .dataframe thead th {\n",
       "        text-align: right;\n",
       "    }\n",
       "</style>\n",
       "<table border=\"1\" class=\"dataframe\">\n",
       "  <thead>\n",
       "    <tr style=\"text-align: right;\">\n",
       "      <th></th>\n",
       "      <th>MSFT</th>\n",
       "      <th>AAPL</th>\n",
       "      <th>IBM</th>\n",
       "      <th>GOOGL</th>\n",
       "    </tr>\n",
       "    <tr>\n",
       "      <th>Date</th>\n",
       "      <th></th>\n",
       "      <th></th>\n",
       "      <th></th>\n",
       "      <th></th>\n",
       "    </tr>\n",
       "  </thead>\n",
       "  <tbody>\n",
       "    <tr>\n",
       "      <td>2010-01-04</td>\n",
       "      <td>24.294369</td>\n",
       "      <td>26.538483</td>\n",
       "      <td>95.994934</td>\n",
       "      <td>313.688690</td>\n",
       "    </tr>\n",
       "    <tr>\n",
       "      <td>2010-01-05</td>\n",
       "      <td>24.302216</td>\n",
       "      <td>26.584366</td>\n",
       "      <td>94.835304</td>\n",
       "      <td>312.307312</td>\n",
       "    </tr>\n",
       "    <tr>\n",
       "      <td>2010-01-06</td>\n",
       "      <td>24.153070</td>\n",
       "      <td>26.161509</td>\n",
       "      <td>94.219246</td>\n",
       "      <td>304.434448</td>\n",
       "    </tr>\n",
       "    <tr>\n",
       "      <td>2010-01-07</td>\n",
       "      <td>23.901886</td>\n",
       "      <td>26.113146</td>\n",
       "      <td>93.893105</td>\n",
       "      <td>297.347351</td>\n",
       "    </tr>\n",
       "    <tr>\n",
       "      <td>2010-01-08</td>\n",
       "      <td>24.066734</td>\n",
       "      <td>26.286753</td>\n",
       "      <td>94.835304</td>\n",
       "      <td>301.311310</td>\n",
       "    </tr>\n",
       "  </tbody>\n",
       "</table>\n",
       "</div>"
      ],
      "text/plain": [
       "                 MSFT       AAPL        IBM       GOOGL\n",
       "Date                                                   \n",
       "2010-01-04  24.294369  26.538483  95.994934  313.688690\n",
       "2010-01-05  24.302216  26.584366  94.835304  312.307312\n",
       "2010-01-06  24.153070  26.161509  94.219246  304.434448\n",
       "2010-01-07  23.901886  26.113146  93.893105  297.347351\n",
       "2010-01-08  24.066734  26.286753  94.835304  301.311310"
      ]
     },
     "execution_count": 152,
     "metadata": {},
     "output_type": "execute_result"
    }
   ],
   "source": [
    "comps.head()"
   ]
  },
  {
   "cell_type": "markdown",
   "metadata": {},
   "source": [
    "Last five rows"
   ]
  },
  {
   "cell_type": "code",
   "execution_count": 153,
   "metadata": {},
   "outputs": [
    {
     "data": {
      "text/html": [
       "<div>\n",
       "<style scoped>\n",
       "    .dataframe tbody tr th:only-of-type {\n",
       "        vertical-align: middle;\n",
       "    }\n",
       "\n",
       "    .dataframe tbody tr th {\n",
       "        vertical-align: top;\n",
       "    }\n",
       "\n",
       "    .dataframe thead th {\n",
       "        text-align: right;\n",
       "    }\n",
       "</style>\n",
       "<table border=\"1\" class=\"dataframe\">\n",
       "  <thead>\n",
       "    <tr style=\"text-align: right;\">\n",
       "      <th></th>\n",
       "      <th>MSFT</th>\n",
       "      <th>AAPL</th>\n",
       "      <th>IBM</th>\n",
       "      <th>GOOGL</th>\n",
       "    </tr>\n",
       "    <tr>\n",
       "      <th>Date</th>\n",
       "      <th></th>\n",
       "      <th></th>\n",
       "      <th></th>\n",
       "      <th></th>\n",
       "    </tr>\n",
       "  </thead>\n",
       "  <tbody>\n",
       "    <tr>\n",
       "      <td>2020-02-24</td>\n",
       "      <td>170.889999</td>\n",
       "      <td>298.179993</td>\n",
       "      <td>146.429993</td>\n",
       "      <td>1419.859985</td>\n",
       "    </tr>\n",
       "    <tr>\n",
       "      <td>2020-02-25</td>\n",
       "      <td>168.070007</td>\n",
       "      <td>288.079987</td>\n",
       "      <td>141.710007</td>\n",
       "      <td>1386.319946</td>\n",
       "    </tr>\n",
       "    <tr>\n",
       "      <td>2020-02-26</td>\n",
       "      <td>170.169998</td>\n",
       "      <td>292.649994</td>\n",
       "      <td>139.750000</td>\n",
       "      <td>1390.469971</td>\n",
       "    </tr>\n",
       "    <tr>\n",
       "      <td>2020-02-27</td>\n",
       "      <td>158.179993</td>\n",
       "      <td>273.519989</td>\n",
       "      <td>133.110001</td>\n",
       "      <td>1314.949951</td>\n",
       "    </tr>\n",
       "    <tr>\n",
       "      <td>2020-02-28</td>\n",
       "      <td>162.009995</td>\n",
       "      <td>273.359985</td>\n",
       "      <td>130.149994</td>\n",
       "      <td>1339.250000</td>\n",
       "    </tr>\n",
       "  </tbody>\n",
       "</table>\n",
       "</div>"
      ],
      "text/plain": [
       "                  MSFT        AAPL         IBM        GOOGL\n",
       "Date                                                       \n",
       "2020-02-24  170.889999  298.179993  146.429993  1419.859985\n",
       "2020-02-25  168.070007  288.079987  141.710007  1386.319946\n",
       "2020-02-26  170.169998  292.649994  139.750000  1390.469971\n",
       "2020-02-27  158.179993  273.519989  133.110001  1314.949951\n",
       "2020-02-28  162.009995  273.359985  130.149994  1339.250000"
      ]
     },
     "execution_count": 153,
     "metadata": {},
     "output_type": "execute_result"
    }
   ],
   "source": [
    "comps.tail()"
   ]
  },
  {
   "cell_type": "markdown",
   "metadata": {},
   "source": [
    "Normalization to 0"
   ]
  },
  {
   "cell_type": "code",
   "execution_count": 154,
   "metadata": {},
   "outputs": [
    {
     "data": {
      "text/html": [
       "<div>\n",
       "<style scoped>\n",
       "    .dataframe tbody tr th:only-of-type {\n",
       "        vertical-align: middle;\n",
       "    }\n",
       "\n",
       "    .dataframe tbody tr th {\n",
       "        vertical-align: top;\n",
       "    }\n",
       "\n",
       "    .dataframe thead th {\n",
       "        text-align: right;\n",
       "    }\n",
       "</style>\n",
       "<table border=\"1\" class=\"dataframe\">\n",
       "  <thead>\n",
       "    <tr style=\"text-align: right;\">\n",
       "      <th></th>\n",
       "      <th>MSFT</th>\n",
       "      <th>AAPL</th>\n",
       "      <th>IBM</th>\n",
       "      <th>GOOGL</th>\n",
       "    </tr>\n",
       "    <tr>\n",
       "      <th>Date</th>\n",
       "      <th></th>\n",
       "      <th></th>\n",
       "      <th></th>\n",
       "      <th></th>\n",
       "    </tr>\n",
       "  </thead>\n",
       "  <tbody>\n",
       "    <tr>\n",
       "      <td>2010-01-04</td>\n",
       "      <td>100.000000</td>\n",
       "      <td>100.000000</td>\n",
       "      <td>100.000000</td>\n",
       "      <td>100.000000</td>\n",
       "    </tr>\n",
       "    <tr>\n",
       "      <td>2010-01-05</td>\n",
       "      <td>100.032299</td>\n",
       "      <td>100.172893</td>\n",
       "      <td>98.791989</td>\n",
       "      <td>99.559634</td>\n",
       "    </tr>\n",
       "    <tr>\n",
       "      <td>2010-01-06</td>\n",
       "      <td>99.418391</td>\n",
       "      <td>98.579519</td>\n",
       "      <td>98.150227</td>\n",
       "      <td>97.049864</td>\n",
       "    </tr>\n",
       "    <tr>\n",
       "      <td>2010-01-07</td>\n",
       "      <td>98.384470</td>\n",
       "      <td>98.397283</td>\n",
       "      <td>97.810479</td>\n",
       "      <td>94.790587</td>\n",
       "    </tr>\n",
       "    <tr>\n",
       "      <td>2010-01-08</td>\n",
       "      <td>99.063016</td>\n",
       "      <td>99.051453</td>\n",
       "      <td>98.791989</td>\n",
       "      <td>96.054247</td>\n",
       "    </tr>\n",
       "    <tr>\n",
       "      <td>...</td>\n",
       "      <td>...</td>\n",
       "      <td>...</td>\n",
       "      <td>...</td>\n",
       "      <td>...</td>\n",
       "    </tr>\n",
       "    <tr>\n",
       "      <td>2020-02-24</td>\n",
       "      <td>703.414035</td>\n",
       "      <td>1123.575890</td>\n",
       "      <td>152.539292</td>\n",
       "      <td>452.633464</td>\n",
       "    </tr>\n",
       "    <tr>\n",
       "      <td>2020-02-25</td>\n",
       "      <td>691.806439</td>\n",
       "      <td>1085.517926</td>\n",
       "      <td>147.622380</td>\n",
       "      <td>441.941323</td>\n",
       "    </tr>\n",
       "    <tr>\n",
       "      <td>2020-02-26</td>\n",
       "      <td>700.450380</td>\n",
       "      <td>1102.738230</td>\n",
       "      <td>145.580599</td>\n",
       "      <td>443.264298</td>\n",
       "    </tr>\n",
       "    <tr>\n",
       "      <td>2020-02-27</td>\n",
       "      <td>651.097357</td>\n",
       "      <td>1030.654211</td>\n",
       "      <td>138.663568</td>\n",
       "      <td>419.189468</td>\n",
       "    </tr>\n",
       "    <tr>\n",
       "      <td>2020-02-28</td>\n",
       "      <td>666.862334</td>\n",
       "      <td>1030.051299</td>\n",
       "      <td>135.580065</td>\n",
       "      <td>426.936017</td>\n",
       "    </tr>\n",
       "  </tbody>\n",
       "</table>\n",
       "<p>2556 rows × 4 columns</p>\n",
       "</div>"
      ],
      "text/plain": [
       "                  MSFT         AAPL         IBM       GOOGL\n",
       "Date                                                       \n",
       "2010-01-04  100.000000   100.000000  100.000000  100.000000\n",
       "2010-01-05  100.032299   100.172893   98.791989   99.559634\n",
       "2010-01-06   99.418391    98.579519   98.150227   97.049864\n",
       "2010-01-07   98.384470    98.397283   97.810479   94.790587\n",
       "2010-01-08   99.063016    99.051453   98.791989   96.054247\n",
       "...                ...          ...         ...         ...\n",
       "2020-02-24  703.414035  1123.575890  152.539292  452.633464\n",
       "2020-02-25  691.806439  1085.517926  147.622380  441.941323\n",
       "2020-02-26  700.450380  1102.738230  145.580599  443.264298\n",
       "2020-02-27  651.097357  1030.654211  138.663568  419.189468\n",
       "2020-02-28  666.862334  1030.051299  135.580065  426.936017\n",
       "\n",
       "[2556 rows x 4 columns]"
      ]
     },
     "execution_count": 154,
     "metadata": {},
     "output_type": "execute_result"
    }
   ],
   "source": [
    "norm_data = (comps / comps.iloc[0] * 100)\n",
    "norm_data"
   ]
  },
  {
   "cell_type": "markdown",
   "metadata": {},
   "source": [
    "Plot graph to comapre stocks"
   ]
  },
  {
   "cell_type": "code",
   "execution_count": 155,
   "metadata": {},
   "outputs": [
    {
     "data": {
      "text/plain": [
       "<matplotlib.axes._subplots.AxesSubplot at 0x1a070169c48>"
      ]
     },
     "execution_count": 155,
     "metadata": {},
     "output_type": "execute_result"
    },
    {
     "data": {
      "image/png": "[encoded data removed]",
      "text/plain": [
       "<Figure size 1080x576 with 1 Axes>"
      ]
     },
     "metadata": {
      "needs_background": "light"
     },
     "output_type": "display_data"
    }
   ],
   "source": [
    "norm_data.plot(figsize = (15,8))"
   ]
  },
  {
   "cell_type": "code",
   "execution_count": 156,
   "metadata": {},
   "outputs": [
    {
     "data": {
      "text/html": [
       "<div>\n",
       "<style scoped>\n",
       "    .dataframe tbody tr th:only-of-type {\n",
       "        vertical-align: middle;\n",
       "    }\n",
       "\n",
       "    .dataframe tbody tr th {\n",
       "        vertical-align: top;\n",
       "    }\n",
       "\n",
       "    .dataframe thead th {\n",
       "        text-align: right;\n",
       "    }\n",
       "</style>\n",
       "<table border=\"1\" class=\"dataframe\">\n",
       "  <thead>\n",
       "    <tr style=\"text-align: right;\">\n",
       "      <th></th>\n",
       "      <th>MSFT</th>\n",
       "      <th>AAPL</th>\n",
       "      <th>IBM</th>\n",
       "      <th>GOOGL</th>\n",
       "    </tr>\n",
       "    <tr>\n",
       "      <th>Date</th>\n",
       "      <th></th>\n",
       "      <th></th>\n",
       "      <th></th>\n",
       "      <th></th>\n",
       "    </tr>\n",
       "  </thead>\n",
       "  <tbody>\n",
       "    <tr>\n",
       "      <td>2010-01-04</td>\n",
       "      <td>NaN</td>\n",
       "      <td>NaN</td>\n",
       "      <td>NaN</td>\n",
       "      <td>NaN</td>\n",
       "    </tr>\n",
       "    <tr>\n",
       "      <td>2010-01-05</td>\n",
       "      <td>0.000323</td>\n",
       "      <td>0.001727</td>\n",
       "      <td>-0.012154</td>\n",
       "      <td>-0.004413</td>\n",
       "    </tr>\n",
       "    <tr>\n",
       "      <td>2010-01-06</td>\n",
       "      <td>-0.006156</td>\n",
       "      <td>-0.016034</td>\n",
       "      <td>-0.006517</td>\n",
       "      <td>-0.025532</td>\n",
       "    </tr>\n",
       "    <tr>\n",
       "      <td>2010-01-07</td>\n",
       "      <td>-0.010454</td>\n",
       "      <td>-0.001850</td>\n",
       "      <td>-0.003468</td>\n",
       "      <td>-0.023555</td>\n",
       "    </tr>\n",
       "    <tr>\n",
       "      <td>2010-01-08</td>\n",
       "      <td>0.006873</td>\n",
       "      <td>0.006626</td>\n",
       "      <td>0.009985</td>\n",
       "      <td>0.013243</td>\n",
       "    </tr>\n",
       "    <tr>\n",
       "      <td>...</td>\n",
       "      <td>...</td>\n",
       "      <td>...</td>\n",
       "      <td>...</td>\n",
       "      <td>...</td>\n",
       "    </tr>\n",
       "    <tr>\n",
       "      <td>2020-02-24</td>\n",
       "      <td>-0.044073</td>\n",
       "      <td>-0.048666</td>\n",
       "      <td>-0.023021</td>\n",
       "      <td>-0.043819</td>\n",
       "    </tr>\n",
       "    <tr>\n",
       "      <td>2020-02-25</td>\n",
       "      <td>-0.016639</td>\n",
       "      <td>-0.034459</td>\n",
       "      <td>-0.032765</td>\n",
       "      <td>-0.023906</td>\n",
       "    </tr>\n",
       "    <tr>\n",
       "      <td>2020-02-26</td>\n",
       "      <td>0.012417</td>\n",
       "      <td>0.015739</td>\n",
       "      <td>-0.013928</td>\n",
       "      <td>0.002989</td>\n",
       "    </tr>\n",
       "    <tr>\n",
       "      <td>2020-02-27</td>\n",
       "      <td>-0.073064</td>\n",
       "      <td>-0.067603</td>\n",
       "      <td>-0.048679</td>\n",
       "      <td>-0.055843</td>\n",
       "    </tr>\n",
       "    <tr>\n",
       "      <td>2020-02-28</td>\n",
       "      <td>0.023924</td>\n",
       "      <td>-0.000585</td>\n",
       "      <td>-0.022488</td>\n",
       "      <td>0.018311</td>\n",
       "    </tr>\n",
       "  </tbody>\n",
       "</table>\n",
       "<p>2556 rows × 4 columns</p>\n",
       "</div>"
      ],
      "text/plain": [
       "                MSFT      AAPL       IBM     GOOGL\n",
       "Date                                              \n",
       "2010-01-04       NaN       NaN       NaN       NaN\n",
       "2010-01-05  0.000323  0.001727 -0.012154 -0.004413\n",
       "2010-01-06 -0.006156 -0.016034 -0.006517 -0.025532\n",
       "2010-01-07 -0.010454 -0.001850 -0.003468 -0.023555\n",
       "2010-01-08  0.006873  0.006626  0.009985  0.013243\n",
       "...              ...       ...       ...       ...\n",
       "2020-02-24 -0.044073 -0.048666 -0.023021 -0.043819\n",
       "2020-02-25 -0.016639 -0.034459 -0.032765 -0.023906\n",
       "2020-02-26  0.012417  0.015739 -0.013928  0.002989\n",
       "2020-02-27 -0.073064 -0.067603 -0.048679 -0.055843\n",
       "2020-02-28  0.023924 -0.000585 -0.022488  0.018311\n",
       "\n",
       "[2556 rows x 4 columns]"
      ]
     },
     "execution_count": 156,
     "metadata": {},
     "output_type": "execute_result"
    }
   ],
   "source": [
    "comps_returns = np.log(comps / comps.shift(1))\n",
    "comps_returns"
   ]
  },
  {
   "cell_type": "markdown",
   "metadata": {},
   "source": [
    "Check correlation between stocks and plot scatter matrix"
   ]
  },
  {
   "cell_type": "code",
   "execution_count": 157,
   "metadata": {},
   "outputs": [
    {
     "data": {
      "text/html": [
       "<div>\n",
       "<style scoped>\n",
       "    .dataframe tbody tr th:only-of-type {\n",
       "        vertical-align: middle;\n",
       "    }\n",
       "\n",
       "    .dataframe tbody tr th {\n",
       "        vertical-align: top;\n",
       "    }\n",
       "\n",
       "    .dataframe thead th {\n",
       "        text-align: right;\n",
       "    }\n",
       "</style>\n",
       "<table border=\"1\" class=\"dataframe\">\n",
       "  <thead>\n",
       "    <tr style=\"text-align: right;\">\n",
       "      <th></th>\n",
       "      <th>MSFT</th>\n",
       "      <th>AAPL</th>\n",
       "      <th>IBM</th>\n",
       "      <th>GOOGL</th>\n",
       "    </tr>\n",
       "  </thead>\n",
       "  <tbody>\n",
       "    <tr>\n",
       "      <td>MSFT</td>\n",
       "      <td>1.000000</td>\n",
       "      <td>0.468123</td>\n",
       "      <td>0.486524</td>\n",
       "      <td>0.545376</td>\n",
       "    </tr>\n",
       "    <tr>\n",
       "      <td>AAPL</td>\n",
       "      <td>0.468123</td>\n",
       "      <td>1.000000</td>\n",
       "      <td>0.383368</td>\n",
       "      <td>0.470839</td>\n",
       "    </tr>\n",
       "    <tr>\n",
       "      <td>IBM</td>\n",
       "      <td>0.486524</td>\n",
       "      <td>0.383368</td>\n",
       "      <td>1.000000</td>\n",
       "      <td>0.408668</td>\n",
       "    </tr>\n",
       "    <tr>\n",
       "      <td>GOOGL</td>\n",
       "      <td>0.545376</td>\n",
       "      <td>0.470839</td>\n",
       "      <td>0.408668</td>\n",
       "      <td>1.000000</td>\n",
       "    </tr>\n",
       "  </tbody>\n",
       "</table>\n",
       "</div>"
      ],
      "text/plain": [
       "           MSFT      AAPL       IBM     GOOGL\n",
       "MSFT   1.000000  0.468123  0.486524  0.545376\n",
       "AAPL   0.468123  1.000000  0.383368  0.470839\n",
       "IBM    0.486524  0.383368  1.000000  0.408668\n",
       "GOOGL  0.545376  0.470839  0.408668  1.000000"
      ]
     },
     "execution_count": 157,
     "metadata": {},
     "output_type": "execute_result"
    }
   ],
   "source": [
    "corr_matrix = comps_returns.corr()\n",
    "corr_matrix"
   ]
  },
  {
   "cell_type": "code",
   "execution_count": 158,
   "metadata": {},
   "outputs": [
    {
     "data": {
      "image/png": "[encoded data removed]",
      "text/plain": [
       "<Figure size 720x720 with 16 Axes>"
      ]
     },
     "metadata": {
      "needs_background": "light"
     },
     "output_type": "display_data"
    }
   ],
   "source": [
    "\n",
    "scatter_matrix(comps_returns, alpha=0.2, figsize=(10, 10))\n",
    "plt.show()"
   ]
  },
  {
   "cell_type": "markdown",
   "metadata": {},
   "source": [
    "Use Machine Learning to predict MSFT stock price"
   ]
  },
  {
   "cell_type": "code",
   "execution_count": 159,
   "metadata": {},
   "outputs": [
    {
     "data": {
      "text/html": [
       "<div>\n",
       "<style scoped>\n",
       "    .dataframe tbody tr th:only-of-type {\n",
       "        vertical-align: middle;\n",
       "    }\n",
       "\n",
       "    .dataframe tbody tr th {\n",
       "        vertical-align: top;\n",
       "    }\n",
       "\n",
       "    .dataframe thead th {\n",
       "        text-align: right;\n",
       "    }\n",
       "</style>\n",
       "<table border=\"1\" class=\"dataframe\">\n",
       "  <thead>\n",
       "    <tr style=\"text-align: right;\">\n",
       "      <th></th>\n",
       "      <th>Date</th>\n",
       "      <th>High</th>\n",
       "      <th>Low</th>\n",
       "      <th>Open</th>\n",
       "      <th>Close</th>\n",
       "      <th>Volume</th>\n",
       "      <th>Adj Close</th>\n",
       "      <th>log_return</th>\n",
       "    </tr>\n",
       "  </thead>\n",
       "  <tbody>\n",
       "    <tr>\n",
       "      <td>0</td>\n",
       "      <td>2010-01-04</td>\n",
       "      <td>31.100000</td>\n",
       "      <td>30.590000</td>\n",
       "      <td>30.620001</td>\n",
       "      <td>30.950001</td>\n",
       "      <td>38409100.0</td>\n",
       "      <td>24.294369</td>\n",
       "      <td>NaN</td>\n",
       "    </tr>\n",
       "    <tr>\n",
       "      <td>1</td>\n",
       "      <td>2010-01-05</td>\n",
       "      <td>31.100000</td>\n",
       "      <td>30.639999</td>\n",
       "      <td>30.850000</td>\n",
       "      <td>30.959999</td>\n",
       "      <td>49749600.0</td>\n",
       "      <td>24.302216</td>\n",
       "      <td>0.000323</td>\n",
       "    </tr>\n",
       "    <tr>\n",
       "      <td>2</td>\n",
       "      <td>2010-01-06</td>\n",
       "      <td>31.080000</td>\n",
       "      <td>30.520000</td>\n",
       "      <td>30.879999</td>\n",
       "      <td>30.770000</td>\n",
       "      <td>58182400.0</td>\n",
       "      <td>24.153070</td>\n",
       "      <td>-0.006156</td>\n",
       "    </tr>\n",
       "    <tr>\n",
       "      <td>3</td>\n",
       "      <td>2010-01-07</td>\n",
       "      <td>30.700001</td>\n",
       "      <td>30.190001</td>\n",
       "      <td>30.629999</td>\n",
       "      <td>30.450001</td>\n",
       "      <td>50559700.0</td>\n",
       "      <td>23.901886</td>\n",
       "      <td>-0.010454</td>\n",
       "    </tr>\n",
       "    <tr>\n",
       "      <td>4</td>\n",
       "      <td>2010-01-08</td>\n",
       "      <td>30.879999</td>\n",
       "      <td>30.240000</td>\n",
       "      <td>30.280001</td>\n",
       "      <td>30.660000</td>\n",
       "      <td>51197400.0</td>\n",
       "      <td>24.066734</td>\n",
       "      <td>0.006873</td>\n",
       "    </tr>\n",
       "    <tr>\n",
       "      <td>...</td>\n",
       "      <td>...</td>\n",
       "      <td>...</td>\n",
       "      <td>...</td>\n",
       "      <td>...</td>\n",
       "      <td>...</td>\n",
       "      <td>...</td>\n",
       "      <td>...</td>\n",
       "      <td>...</td>\n",
       "    </tr>\n",
       "    <tr>\n",
       "      <td>2551</td>\n",
       "      <td>2020-02-24</td>\n",
       "      <td>174.550003</td>\n",
       "      <td>163.229996</td>\n",
       "      <td>167.770004</td>\n",
       "      <td>170.889999</td>\n",
       "      <td>68311100.0</td>\n",
       "      <td>170.889999</td>\n",
       "      <td>-0.044073</td>\n",
       "    </tr>\n",
       "    <tr>\n",
       "      <td>2552</td>\n",
       "      <td>2020-02-25</td>\n",
       "      <td>174.839996</td>\n",
       "      <td>167.649994</td>\n",
       "      <td>174.199997</td>\n",
       "      <td>168.070007</td>\n",
       "      <td>68073300.0</td>\n",
       "      <td>168.070007</td>\n",
       "      <td>-0.016639</td>\n",
       "    </tr>\n",
       "    <tr>\n",
       "      <td>2553</td>\n",
       "      <td>2020-02-26</td>\n",
       "      <td>173.259995</td>\n",
       "      <td>168.210007</td>\n",
       "      <td>169.710007</td>\n",
       "      <td>170.169998</td>\n",
       "      <td>56206100.0</td>\n",
       "      <td>170.169998</td>\n",
       "      <td>0.012417</td>\n",
       "    </tr>\n",
       "    <tr>\n",
       "      <td>2554</td>\n",
       "      <td>2020-02-27</td>\n",
       "      <td>167.029999</td>\n",
       "      <td>157.979996</td>\n",
       "      <td>163.320007</td>\n",
       "      <td>158.179993</td>\n",
       "      <td>93174900.0</td>\n",
       "      <td>158.179993</td>\n",
       "      <td>-0.073064</td>\n",
       "    </tr>\n",
       "    <tr>\n",
       "      <td>2555</td>\n",
       "      <td>2020-02-28</td>\n",
       "      <td>163.710007</td>\n",
       "      <td>152.000000</td>\n",
       "      <td>152.410004</td>\n",
       "      <td>162.009995</td>\n",
       "      <td>97012700.0</td>\n",
       "      <td>162.009995</td>\n",
       "      <td>0.023924</td>\n",
       "    </tr>\n",
       "  </tbody>\n",
       "</table>\n",
       "<p>2556 rows × 8 columns</p>\n",
       "</div>"
      ],
      "text/plain": [
       "           Date        High         Low        Open       Close      Volume  \\\n",
       "0    2010-01-04   31.100000   30.590000   30.620001   30.950001  38409100.0   \n",
       "1    2010-01-05   31.100000   30.639999   30.850000   30.959999  49749600.0   \n",
       "2    2010-01-06   31.080000   30.520000   30.879999   30.770000  58182400.0   \n",
       "3    2010-01-07   30.700001   30.190001   30.629999   30.450001  50559700.0   \n",
       "4    2010-01-08   30.879999   30.240000   30.280001   30.660000  51197400.0   \n",
       "...         ...         ...         ...         ...         ...         ...   \n",
       "2551 2020-02-24  174.550003  163.229996  167.770004  170.889999  68311100.0   \n",
       "2552 2020-02-25  174.839996  167.649994  174.199997  168.070007  68073300.0   \n",
       "2553 2020-02-26  173.259995  168.210007  169.710007  170.169998  56206100.0   \n",
       "2554 2020-02-27  167.029999  157.979996  163.320007  158.179993  93174900.0   \n",
       "2555 2020-02-28  163.710007  152.000000  152.410004  162.009995  97012700.0   \n",
       "\n",
       "       Adj Close  log_return  \n",
       "0      24.294369         NaN  \n",
       "1      24.302216    0.000323  \n",
       "2      24.153070   -0.006156  \n",
       "3      23.901886   -0.010454  \n",
       "4      24.066734    0.006873  \n",
       "...          ...         ...  \n",
       "2551  170.889999   -0.044073  \n",
       "2552  168.070007   -0.016639  \n",
       "2553  170.169998    0.012417  \n",
       "2554  158.179993   -0.073064  \n",
       "2555  162.009995    0.023924  \n",
       "\n",
       "[2556 rows x 8 columns]"
      ]
     },
     "execution_count": 159,
     "metadata": {},
     "output_type": "execute_result"
    }
   ],
   "source": [
    "MSFT_data = MSFT.reset_index()\n",
    "MSFT_data"
   ]
  },
  {
   "cell_type": "markdown",
   "metadata": {},
   "source": [
    "Create DataFrame with date and target variable(Adj Close)"
   ]
  },
  {
   "cell_type": "code",
   "execution_count": 169,
   "metadata": {},
   "outputs": [],
   "source": [
    "MSFT_new = pd.DataFrame(index=range(0, len(MSFT)), columns =['Open', 'Adj Close'])\n"
   ]
  },
  {
   "cell_type": "code",
   "execution_count": 170,
   "metadata": {},
   "outputs": [
    {
     "data": {
      "text/html": [
       "<div>\n",
       "<style scoped>\n",
       "    .dataframe tbody tr th:only-of-type {\n",
       "        vertical-align: middle;\n",
       "    }\n",
       "\n",
       "    .dataframe tbody tr th {\n",
       "        vertical-align: top;\n",
       "    }\n",
       "\n",
       "    .dataframe thead th {\n",
       "        text-align: right;\n",
       "    }\n",
       "</style>\n",
       "<table border=\"1\" class=\"dataframe\">\n",
       "  <thead>\n",
       "    <tr style=\"text-align: right;\">\n",
       "      <th></th>\n",
       "      <th>Open</th>\n",
       "      <th>Adj Close</th>\n",
       "    </tr>\n",
       "  </thead>\n",
       "  <tbody>\n",
       "    <tr>\n",
       "      <td>0</td>\n",
       "      <td>30.62</td>\n",
       "      <td>24.2944</td>\n",
       "    </tr>\n",
       "    <tr>\n",
       "      <td>1</td>\n",
       "      <td>30.85</td>\n",
       "      <td>24.3022</td>\n",
       "    </tr>\n",
       "    <tr>\n",
       "      <td>2</td>\n",
       "      <td>30.88</td>\n",
       "      <td>24.1531</td>\n",
       "    </tr>\n",
       "    <tr>\n",
       "      <td>3</td>\n",
       "      <td>30.63</td>\n",
       "      <td>23.9019</td>\n",
       "    </tr>\n",
       "    <tr>\n",
       "      <td>4</td>\n",
       "      <td>30.28</td>\n",
       "      <td>24.0667</td>\n",
       "    </tr>\n",
       "    <tr>\n",
       "      <td>...</td>\n",
       "      <td>...</td>\n",
       "      <td>...</td>\n",
       "    </tr>\n",
       "    <tr>\n",
       "      <td>2551</td>\n",
       "      <td>167.77</td>\n",
       "      <td>170.89</td>\n",
       "    </tr>\n",
       "    <tr>\n",
       "      <td>2552</td>\n",
       "      <td>174.2</td>\n",
       "      <td>168.07</td>\n",
       "    </tr>\n",
       "    <tr>\n",
       "      <td>2553</td>\n",
       "      <td>169.71</td>\n",
       "      <td>170.17</td>\n",
       "    </tr>\n",
       "    <tr>\n",
       "      <td>2554</td>\n",
       "      <td>163.32</td>\n",
       "      <td>158.18</td>\n",
       "    </tr>\n",
       "    <tr>\n",
       "      <td>2555</td>\n",
       "      <td>152.41</td>\n",
       "      <td>162.01</td>\n",
       "    </tr>\n",
       "  </tbody>\n",
       "</table>\n",
       "<p>2556 rows × 2 columns</p>\n",
       "</div>"
      ],
      "text/plain": [
       "        Open Adj Close\n",
       "0      30.62   24.2944\n",
       "1      30.85   24.3022\n",
       "2      30.88   24.1531\n",
       "3      30.63   23.9019\n",
       "4      30.28   24.0667\n",
       "...      ...       ...\n",
       "2551  167.77    170.89\n",
       "2552   174.2    168.07\n",
       "2553  169.71    170.17\n",
       "2554  163.32    158.18\n",
       "2555  152.41    162.01\n",
       "\n",
       "[2556 rows x 2 columns]"
      ]
     },
     "execution_count": 170,
     "metadata": {},
     "output_type": "execute_result"
    }
   ],
   "source": [
    "for i in range(0, len(MSFT_data)):\n",
    "    MSFT_new['Open'][i] = MSFT_data['Open'][i]\n",
    "    MSFT_new['Adj Close'][i] = MSFT_data['Adj Close'][i]\n",
    "    \n",
    "MSFT_new\n",
    "\n",
    "    "
   ]
  },
  {
   "cell_type": "markdown",
   "metadata": {},
   "source": [
    "Split dataset to train and validate (last two yearsi for validation, the years before to train)"
   ]
  },
  {
   "cell_type": "code",
   "execution_count": 171,
   "metadata": {},
   "outputs": [
    {
     "data": {
      "text/plain": [
       "Open           94.84\n",
       "Adj Close    91.0094\n",
       "Name: 2052, dtype: object"
      ]
     },
     "execution_count": 171,
     "metadata": {},
     "output_type": "execute_result"
    }
   ],
   "source": [
    "MSFT_new.loc[2052]"
   ]
  },
  {
   "cell_type": "code",
   "execution_count": 172,
   "metadata": {},
   "outputs": [],
   "source": [
    "train = MSFT_new[:2052]\n",
    "valid = MSFT_new[2052:]"
   ]
  },
  {
   "cell_type": "code",
   "execution_count": 173,
   "metadata": {},
   "outputs": [
    {
     "data": {
      "text/plain": [
       "(2052, 2)"
      ]
     },
     "execution_count": 173,
     "metadata": {},
     "output_type": "execute_result"
    }
   ],
   "source": [
    "train.shape"
   ]
  },
  {
   "cell_type": "code",
   "execution_count": 174,
   "metadata": {},
   "outputs": [
    {
     "data": {
      "text/plain": [
       "(504, 2)"
      ]
     },
     "execution_count": 174,
     "metadata": {},
     "output_type": "execute_result"
    }
   ],
   "source": [
    "valid.shape"
   ]
  },
  {
   "cell_type": "code",
   "execution_count": 175,
   "metadata": {},
   "outputs": [],
   "source": [
    "x_train = train.drop('Adj Close', axis =1)\n",
    "y_train = train['Adj Close']\n",
    "x_valid = valid.drop('Adj Close', axis =1)\n",
    "y_valid = valid['Adj Close']"
   ]
  },
  {
   "cell_type": "markdown",
   "metadata": {},
   "source": [
    "Implement Linear Regression"
   ]
  },
  {
   "cell_type": "code",
   "execution_count": 176,
   "metadata": {},
   "outputs": [
    {
     "data": {
      "text/plain": [
       "LinearRegression(copy_X=True, fit_intercept=True, n_jobs=None, normalize=False)"
      ]
     },
     "execution_count": 176,
     "metadata": {},
     "output_type": "execute_result"
    }
   ],
   "source": [
    "from sklearn.linear_model import LinearRegression\n",
    "model = LinearRegression()\n",
    "model.fit(x_train, y_train)"
   ]
  },
  {
   "cell_type": "code",
   "execution_count": 177,
   "metadata": {},
   "outputs": [],
   "source": [
    "preds = model.predict(x_valid)"
   ]
  },
  {
   "cell_type": "code",
   "execution_count": 180,
   "metadata": {},
   "outputs": [
    {
     "data": {
      "text/plain": [
       "array([ 92.45431116,  91.57069737,  89.06539202,  89.85544241,\n",
       "        91.93453741,  90.70787898,  91.86176941,  92.9221123 ,\n",
       "        94.17996382,  94.69973757,  92.74539113,  91.09250648,\n",
       "        92.28798769,  91.3108105 ,  90.59352812,  90.46877956,\n",
       "        88.7431269 ,  86.90313132,  88.05702968,  92.55827226,\n",
       "        87.2357862 ,  87.61002393,  87.91149366,  86.98629702,\n",
       "        85.18787635,  89.95940351,  88.97182862,  88.50403542,\n",
       "        89.90742296,  89.51239776,  89.94900581,  91.63307562,\n",
       "        91.65386308,  92.62064257,  93.88889179,  94.11759351,\n",
       "        93.5666346 ,  93.3899055 ,  93.90967925,  90.85341499,\n",
       "        91.11330187,  95.32346449,  94.00324265,  90.75985159,\n",
       "        92.61024488,  90.49996472,  90.87420245,  92.79736374,\n",
       "        93.50425636,  93.67058777,  95.17792847,  95.53137875,\n",
       "        95.65611937,  94.94922675,  95.07397531,  94.45024839,\n",
       "        93.67058777,  94.69973757,  95.40663019,  94.39826785,\n",
       "        96.49815824,  96.0511525 ,  95.57295367,  96.06154226,\n",
       "        97.0803023 ,  97.06990461,  99.12821215,  99.89747508,\n",
       "       100.39646137, 100.57318254,  98.95148305,  98.86832527,\n",
       "        98.96188074,  99.60640305,  99.53363504,  99.38809902,\n",
       "        97.82877777,  97.45454004,  99.24256301,  99.98064078,\n",
       "        98.24459836,  97.81838008,  96.59171371,  97.38177203,\n",
       "        95.09476277,  96.70606457,  95.84323824,  98.31736637,\n",
       "        97.29860633,  97.70402922,  99.53363504,  99.89747508,\n",
       "        99.01386129, 100.69792316, 102.36120551, 103.43193817,\n",
       "       102.61069469, 103.99329477, 102.94334957, 106.21792579,\n",
       "       104.36753251, 106.72730184, 106.09317723, 108.98311802,\n",
       "       108.40097395, 105.29272915, 104.56504114, 104.08685024,\n",
       "       103.43193817, 105.92685376, 106.25950864, 106.71690415,\n",
       "       107.51736016, 107.91238536, 107.61091563, 107.42379677,\n",
       "       106.71690415, 106.64413614, 106.44662751, 105.46945032,\n",
       "       105.62538403, 105.01204688, 103.89973137, 105.25114629,\n",
       "       105.79170751, 107.45498192, 108.15148477, 108.68164829,\n",
       "       109.94989751, 109.9706929 , 109.09746888, 109.26380028,\n",
       "       106.39464696, 106.3738595 , 107.00797618, 107.07035442,\n",
       "       109.70040833, 110.41769864, 111.70673532, 112.0497879 ,\n",
       "       110.49046665, 111.38447814, 110.58402212, 112.37204509,\n",
       "       111.36368275, 113.20368626, 112.86063369, 113.18289087,\n",
       "       112.56956165, 113.15170572, 113.72346001, 113.84820064,\n",
       "       113.0061697 , 110.94786216, 109.93950775, 109.3989386 ,\n",
       "       109.50289177, 103.37995762, 107.18470528, 107.08075212,\n",
       "       107.73566419, 109.96029521, 108.31780825, 107.10153958,\n",
       "       107.50696247, 105.89566067, 106.56097837, 104.62741938,\n",
       "       103.7334079 , 106.24911094, 101.62312774, 103.47352102,\n",
       "       105.14719313, 104.55465137, 104.44030051, 105.49023778,\n",
       "       107.63171102, 110.08504376, 109.09746888, 107.61091563,\n",
       "       105.66696688, 106.23871325, 103.00571989, 105.17837829,\n",
       "       106.41543442,  99.68956875, 101.56074949, 100.07419625,\n",
       "       102.79781356, 104.33633942, 106.02040922, 108.55690767,\n",
       "       108.94153516, 111.33249759, 110.23057978, 103.86854621,\n",
       "       106.52978528, 102.80821125, 108.00594876, 109.13905173,\n",
       "       107.77724704, 106.39464696, 103.44233586, 101.71668321,\n",
       "       101.61273004, 100.98900313,  99.51283965,  95.40663019,\n",
       "        92.76617859,  97.0907    ,  99.99103055,  99.1593973 ,\n",
       "        97.35058687,  97.92233324,  97.52730804,  99.52323734,\n",
       "       100.97860543, 101.83103406, 101.1657243 , 101.13453914,\n",
       "        99.79352191, 100.42764652, 103.28640215, 103.01611758,\n",
       "       105.57340348, 104.83532571, 104.18041364, 104.94967657,\n",
       "       105.34470176, 104.32594965, 102.89136903, 102.62109239,\n",
       "       101.76866375, 101.74786836, 100.80188426, 104.11803539,\n",
       "       105.09521258, 103.21363414, 102.38199297, 104.26357141,\n",
       "       104.2012011 , 105.61498633, 104.37792227, 106.04120462,\n",
       "       105.91645606, 105.98922407, 104.99125942, 108.26583563,\n",
       "       110.04346091, 109.52368716, 109.9706929 , 110.33453294,\n",
       "       111.21814673, 111.35328505, 110.55283696, 110.15781177,\n",
       "       109.66922317, 107.34063899, 109.24300489, 111.14537872,\n",
       "       112.50718341, 112.93340169, 113.76503494, 114.62786126,\n",
       "       116.62379056, 115.89611048, 115.63622361, 118.08955635,\n",
       "       115.03328416, 117.1747574 , 116.40548654, 115.94809103,\n",
       "       116.6030031 , 117.51780205, 117.63215291, 118.46379408,\n",
       "       118.71328326, 117.97520549, 118.41181353, 117.18514717,\n",
       "       118.35984092, 119.1706867 , 119.27463986, 119.58650729,\n",
       "       120.31418736, 119.89836678, 120.88594166, 121.3329474 ,\n",
       "       122.87147327, 124.62831108, 129.06717542, 128.69293768,\n",
       "       128.90084401, 128.80728854, 129.55576401, 126.90492264,\n",
       "       126.26040034, 125.25203799, 125.324806  , 124.26447104,\n",
       "       123.06898983, 123.71351213, 122.88187096, 122.63238178,\n",
       "       123.03780467, 125.62627573, 127.24796729, 125.38717631,\n",
       "       126.33316835, 125.49113741, 125.05452143, 125.79260714,\n",
       "       125.86537514, 124.2020928 , 124.07735217, 123.00661952,\n",
       "       122.61158639, 119.93994963, 123.75508705, 125.30401854,\n",
       "       128.16277417, 131.49971277, 133.03825449, 130.46016526,\n",
       "       131.06310472, 131.35417675, 131.73882011, 133.36051167,\n",
       "       134.20254261, 136.74943082, 135.84502957, 136.28163761,\n",
       "       136.54152449, 133.52684308, 133.30853113, 133.7555448 ,\n",
       "       135.89701012, 135.36683074, 136.07373129, 135.1797198 ,\n",
       "       135.65790277, 135.24209011, 136.41678387, 137.52909144,\n",
       "       138.20480684, 138.81813606, 138.3191577 , 137.00931769,\n",
       "       134.77429691, 139.62898184, 136.7078559 , 139.15078301,\n",
       "       138.25677152, 139.84727793, 139.78490762, 140.95960137,\n",
       "       139.54581613, 139.7433327 , 136.28163761, 137.41474058,\n",
       "       132.43531503, 132.95508878, 132.94468316, 135.86582496,\n",
       "       137.95530973, 136.35441355, 135.29407066, 135.61632785,\n",
       "       133.568418  , 134.07780199, 137.16525934, 137.53949707,\n",
       "       137.89293941, 138.00729027, 136.47915418, 134.19215285,\n",
       "       135.647513  , 134.07780199, 136.54152449, 138.5166584 ,\n",
       "       135.87621472, 136.59350504, 138.47508348, 139.43146527,\n",
       "       138.97406184, 136.07373129, 135.14853465, 137.16525934,\n",
       "       137.0924834 , 135.06536894, 136.24006269, 136.65587535,\n",
       "       139.71214754, 140.45021738, 138.5998241 , 139.77451785,\n",
       "       136.80141137, 138.81813606, 139.5562059 , 137.37316566,\n",
       "       139.04683777, 135.50197699, 134.15056207, 136.02175074,\n",
       "       136.42717363, 136.36480332, 136.75983644, 137.8305691 ,\n",
       "       139.52502074, 139.07802293, 139.46265043, 140.22151566,\n",
       "       140.38784707, 139.15078301, 137.78897832, 138.32954746,\n",
       "       136.15689699, 138.76615551, 138.71417496, 143.97428278,\n",
       "       143.64163583, 143.05949176, 144.49405653, 143.82874676,\n",
       "       144.42129645, 144.56683247, 143.94309762, 143.39213871,\n",
       "       143.53767473, 144.95145997, 145.92863716, 146.40683599,\n",
       "       146.69790802, 148.68343169, 149.86853107, 150.71056201,\n",
       "       150.11801232, 149.17202028, 149.86853107, 149.79575513,\n",
       "       151.20954036, 152.21790271, 151.97881123, 151.67733357,\n",
       "       147.18649661, 149.94129114, 149.84773568, 150.82491286,\n",
       "       150.90807857, 151.13676443, 151.3966513 , 151.51100216,\n",
       "       152.91439763, 155.10784349, 155.46128584, 154.26581256,\n",
       "       153.95394513, 157.43643561, 158.23687576, 157.57156599,\n",
       "       157.6547317 , 159.61947584, 159.14129287, 156.83349615,\n",
       "       158.92298092, 158.44479795, 157.15575334, 159.48434545,\n",
       "       159.0789067 , 162.10399373, 163.12276171, 162.02082803,\n",
       "       163.71529553, 162.91483952, 164.71326811, 167.90467069,\n",
       "       167.13539983, 167.8838753 , 166.62603171, 167.99822616,\n",
       "       161.38670342, 164.12071842, 168.34127874, 174.7968757 ,\n",
       "       172.88411211, 171.03370296, 178.00907367, 185.17155532,\n",
       "       181.9905425 , 183.94489688, 184.70376212, 192.0533547 ,\n",
       "       186.78285712, 184.18398837, 184.36070954, 186.81404227,\n",
       "       189.36093048, 188.20703212, 184.27754383, 168.26851866,\n",
       "       174.95280148, 170.28524335, 163.64253546, 152.30106841])"
      ]
     },
     "execution_count": 180,
     "metadata": {},
     "output_type": "execute_result"
    }
   ],
   "source": [
    "preds"
   ]
  },
  {
   "cell_type": "code",
   "execution_count": null,
   "metadata": {},
   "outputs": [],
   "source": []
  }
 ],
 "metadata": {
  "kernelspec": {
   "display_name": "Python 3",
   "language": "python",
   "name": "python3"
  },
  "language_info": {
   "codemirror_mode": {
    "name": "ipython",
    "version": 3
   },
   "file_extension": ".py",
   "mimetype": "text/x-python",
   "name": "python",
   "nbconvert_exporter": "python",
   "pygments_lexer": "ipython3",
   "version": "3.7.4"
  }
 },
 "nbformat": 4,
 "nbformat_minor": 2
}
